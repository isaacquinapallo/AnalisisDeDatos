{
 "cells": [
  {
   "cell_type": "code",
   "execution_count": 36,
   "id": "f4b4e1c0-c1d2-48d5-bc23-3d548c56e4d3",
   "metadata": {},
   "outputs": [
    {
     "name": "stdout",
     "output_type": "stream",
     "text": [
      "Requirement already satisfied: numpy in c:\\users\\user\\appdata\\local\\programs\\python\\python312\\lib\\site-packages (1.26.4)\n",
      "Note: you may need to restart the kernel to use updated packages.\n"
     ]
    }
   ],
   "source": [
    "pip install numpy"
   ]
  },
  {
   "cell_type": "code",
   "execution_count": 37,
   "id": "926a366f-560a-406a-af92-cc4767ebe80d",
   "metadata": {},
   "outputs": [],
   "source": [
    "import numpy as np"
   ]
  },
  {
   "cell_type": "code",
   "execution_count": 38,
   "id": "d546aaf1-6e3c-4e72-9191-70f2d9c5b62f",
   "metadata": {},
   "outputs": [
    {
     "name": "stdout",
     "output_type": "stream",
     "text": [
      "a: [1 2 3]\n",
      "\n",
      "b: [[1 2 3]\n",
      " [4 5 6]]\n",
      "\n"
     ]
    }
   ],
   "source": [
    "a=np.array([1,2,3])\n",
    "print (f\"a: {a}\\n\")\n",
    "b=np.array([(1,2,3),(4,5,6)])\n",
    "print(f\"b: {b}\\n\")"
   ]
  },
  {
   "cell_type": "code",
   "execution_count": 39,
   "id": "18092f56-ffe3-4b10-8703-37ba1d6b72de",
   "metadata": {},
   "outputs": [
    {
     "name": "stdout",
     "output_type": "stream",
     "text": [
      "b: [[[ 1  2  3]\n",
      "  [ 4  5  6]]\n",
      "\n",
      " [[ 7  8  9]\n",
      "  [10 11 12]]]\n",
      "\n"
     ]
    }
   ],
   "source": [
    "#Arreglo de 3 Dimensiones\n",
    "b=np.array([[(1,2,3),(4,5,6)],[(7,8,9),(10,11,12)]])\n",
    "print(f\"b: {b}\\n\")"
   ]
  },
  {
   "cell_type": "code",
   "execution_count": 40,
   "id": "68b7076b-a655-4732-8c6f-176878e66afb",
   "metadata": {},
   "outputs": [
    {
     "data": {
      "text/plain": [
       "<memory at 0x0000025F515916C0>"
      ]
     },
     "execution_count": 40,
     "metadata": {},
     "output_type": "execute_result"
    }
   ],
   "source": [
    "#Memoria que contiene estos datos del arreglo\n",
    "x=np.array([1,2,3,4])\n",
    "x.data"
   ]
  },
  {
   "cell_type": "code",
   "execution_count": 41,
   "id": "cecd3af6-8a18-437c-a703-40336cf0a2f3",
   "metadata": {},
   "outputs": [
    {
     "name": "stdout",
     "output_type": "stream",
     "text": [
      "0\n",
      "1\n",
      "2\n",
      "3\n",
      "4\n",
      "5\n"
     ]
    }
   ],
   "source": [
    "x=range(6)\n",
    "for n in x:\n",
    "    print(n)"
   ]
  },
  {
   "cell_type": "code",
   "execution_count": 42,
   "id": "ce5a88fa-5ce6-4be5-a5ed-67900c200c91",
   "metadata": {},
   "outputs": [
    {
     "name": "stdout",
     "output_type": "stream",
     "text": [
      "28000\n",
      "4000\n"
     ]
    }
   ],
   "source": [
    "#Calcula y muestra el tamaño en bytes de la lista y este se multiplica por la longitud de la lista\n",
    "import sys\n",
    "S=range(1000)\n",
    "print(sys.getsizeof(5)*len(S))\n",
    "#Calcula y muestra el tamaño en bytes del arreglo y este se multiplica por estos valores que dan el tamaño total\n",
    "\n",
    "\n",
    "D=np.arange(1000)\n",
    "print(D.size*D.itemsize)"
   ]
  },
  {
   "cell_type": "code",
   "execution_count": 43,
   "id": "306f81a2-b102-40c2-8861-ffae1a23763d",
   "metadata": {},
   "outputs": [
    {
     "name": "stdout",
     "output_type": "stream",
     "text": [
      "375.31208992004395\n",
      "133.80026817321777\n"
     ]
    }
   ],
   "source": [
    "#Compara el rendimiento de formas de realizar operaciones en listas o arrays.\n",
    "import time\n",
    "\n",
    "SIZE=1000000\n",
    "L1=range(SIZE)\n",
    "L2=range(SIZE)\n",
    "A1=np.arange(SIZE)\n",
    "A2=np.arange(SIZE)\n",
    "\n",
    "start=time.time()\n",
    "result=[(x,y)for x,y in zip(L1,L2)] #Revisar Comprehension\n",
    "print((time.time()-start)*1000)\n",
    "\n",
    "start=time.time()\n",
    "result=A1+A2\n",
    "print((time.time()-start)*1000)"
   ]
  },
  {
   "cell_type": "code",
   "execution_count": 44,
   "id": "1f9abd89-8fde-42b9-b3d4-564282586540",
   "metadata": {},
   "outputs": [
    {
     "data": {
      "text/plain": [
       "0.00362"
      ]
     },
     "execution_count": 44,
     "metadata": {},
     "output_type": "execute_result"
    }
   ],
   "source": [
    "import time\n",
    "import numpy as np\n",
    "#Se calcula el tiempo transcurrido desde el tiempo transcurrido hasta 5 decimales.\n",
    "list1=[i for i in range(10000)]\n",
    "list2=[i for i in range(10000)]\n",
    "\n",
    "inicio=time.time()\n",
    "dot=0\n",
    "for i,j in zip (list1,list2):\n",
    "    dot0=i*j\n",
    "round(time.time()-inicio,5)"
   ]
  },
  {
   "cell_type": "code",
   "execution_count": 45,
   "id": "2140ed61-453d-4bb5-b78b-16b512ebc75f",
   "metadata": {},
   "outputs": [
    {
     "data": {
      "text/plain": [
       "0.0"
      ]
     },
     "execution_count": 45,
     "metadata": {},
     "output_type": "execute_result"
    }
   ],
   "source": [
    "import time\n",
    "import numpy as np\n",
    "#Se calcula el tiempo transcurrido desde el tiempo transcurrido hasta 5 decimales.\n",
    "arr1=np.array([i for i in range(10000)])\n",
    "arr2=np.array([i for i in range(10000)])\n",
    "\n",
    "inicio=time.time()\n",
    "arr=np.dot(arr1,arr2)\n",
    "\n",
    "round(time.time()-inicio,5)"
   ]
  },
  {
   "cell_type": "code",
   "execution_count": 46,
   "id": "f172538f-ac69-4397-8cba-648b4180772a",
   "metadata": {},
   "outputs": [
    {
     "data": {
      "text/plain": [
       "0.0"
      ]
     },
     "execution_count": 46,
     "metadata": {},
     "output_type": "execute_result"
    }
   ],
   "source": [
    "#Concatenacion de dos arreglos\n",
    "#Forma1\n",
    "arr1=np.array([i for i in range(100000)])\n",
    "arr2=np.array([i for i in range(100000)])\n",
    "\n",
    "inicio=time.time()\n",
    "list1+=list2\n",
    "round(time.time()-inicio,5)"
   ]
  },
  {
   "cell_type": "code",
   "execution_count": 47,
   "id": "656c5aea-3b5c-4543-a6f0-41c28a7248af",
   "metadata": {},
   "outputs": [
    {
     "data": {
      "text/plain": [
       "0.0"
      ]
     },
     "execution_count": 47,
     "metadata": {},
     "output_type": "execute_result"
    }
   ],
   "source": [
    "#Forma2\n",
    "arr1=np.array([i for i in range(100000)])\n",
    "arr2=np.array([i for i in range(100000)])\n",
    "\n",
    "inicio=time.time()\n",
    "arr=np.concatenate((arr1,arr2),axis=0)\n",
    "round(time.time()-inicio,5)\n"
   ]
  },
  {
   "cell_type": "code",
   "execution_count": 53,
   "id": "86ebf585-cd8b-4080-857a-70a8b63b7ed4",
   "metadata": {},
   "outputs": [
    {
     "data": {
      "text/plain": [
       "0.0"
      ]
     },
     "execution_count": 53,
     "metadata": {},
     "output_type": "execute_result"
    }
   ],
   "source": [
    "#Eliminacion\n",
    "#Forma1\n",
    "import time\n",
    "import numpy as np\n",
    "list1=[1 for i in range(100000)]\n",
    "inicio=time.time()\n",
    "del(list1)\n",
    "round(time.time()-inicio,5)"
   ]
  },
  {
   "cell_type": "code",
   "execution_count": 52,
   "id": "c64cb903-90ae-428d-866d-7792c7ecdee4",
   "metadata": {},
   "outputs": [
    {
     "data": {
      "text/plain": [
       "0.0"
      ]
     },
     "execution_count": 52,
     "metadata": {},
     "output_type": "execute_result"
    }
   ],
   "source": [
    "#Forma2\n",
    "import time\n",
    "import numpy as np\n",
    "arr1=np.array([i for i in range(100000)])\n",
    "inicio=time.time()\n",
    "del(arr1)\n",
    "round(time.time()-inicio,5)"
   ]
  },
  {
   "cell_type": "code",
   "execution_count": 59,
   "id": "41ca7498-db44-4ef6-b0b6-afad4d70f600",
   "metadata": {},
   "outputs": [
    {
     "name": "stdout",
     "output_type": "stream",
     "text": [
      "[25.  12.  15.  66.  12.5]\n",
      "66.0\n",
      "[125.   60.   75.  330.   62.5]\n",
      "130.5\n",
      "26.1\n",
      "[ 50.  24.  30. 132.  25.]\n"
     ]
    }
   ],
   "source": [
    "#Lista\n",
    "lista=[25,12,15,66,12.5]\n",
    "vector=np.array(lista)\n",
    "print(vector)\n",
    "\n",
    "print(vector[3])\n",
    "#Multiplicar x5 cada elemento\n",
    "print(vector*5)\n",
    "#Sumar los elementos\n",
    "print(np.sum(vector))\n",
    "#Promedio media de los elementos\n",
    "print(np.mean(vector))\n",
    "#Sumar su propio vector\n",
    "print(vector+vector)"
   ]
  },
  {
   "cell_type": "code",
   "execution_count": 67,
   "id": "e7f86c36-f421-4e97-9c51-48eba0b99014",
   "metadata": {},
   "outputs": [
    {
     "name": "stdout",
     "output_type": "stream",
     "text": [
      "[[ 1.  -4. ]\n",
      " [12.   3. ]\n",
      " [ 7.2  5. ]]\n",
      "\n",
      "[[0. 0. 0.]\n",
      " [0. 0. 0.]]\n",
      "\n",
      "[[1. 1.]\n",
      " [1. 1.]\n",
      " [1. 1.]]\n",
      "\n",
      "[[1. 1.]\n",
      " [1. 1.]\n",
      " [1. 1.]]\n",
      "\n"
     ]
    }
   ],
   "source": [
    "#MATRICES\n",
    "lista=[[1,-4],[12,3],[7.2,5]]\n",
    "matriz=np.array(lista)\n",
    "print(f\"{matriz}\\n\")\n",
    "\n",
    "#Matriz creada con np.zeros\n",
    "dimensiones=(2,3)\n",
    "matrizCeros=np.zeros(dimensiones)\n",
    "print(f\"{matrizCeros}\\n\")\n",
    "\n",
    "#Matriz creada con np.ones\n",
    "dimensiones=(3,2)\n",
    "matrizUnos=np.ones(dimensiones)\n",
    "print(f\"{matrizUnos}\\n\")\n",
    "\n",
    "#Compia de matriz creada connp.Ones\n",
    "matrizCopia=np.copy(matrizUnos)\n",
    "print(f\"{matrizCopia}\\n\")"
   ]
  },
  {
   "cell_type": "code",
   "execution_count": 78,
   "id": "f80478a3-2618-4776-b202-84a226f48b71",
   "metadata": {},
   "outputs": [
    {
     "name": "stdout",
     "output_type": "stream",
     "text": [
      "[[0.5 0.5 0.5 0.5]\n",
      " [0.5 0.5 0.5 0.5]\n",
      " [0.5 0.5 0.5 0.5]\n",
      " [0.5 0.5 0.5 0.5]]\n",
      "\n",
      "[[79 49 51 25 19]\n",
      " [89 22 11 58 75]\n",
      " [12 46  5 25 65]\n",
      " [88 12  2 49 70]\n",
      " [91 57 52 75 12]]\n",
      "\n"
     ]
    }
   ],
   "source": [
    "#EJERCICIOS PARA REALIZAR\n",
    "# 1.- Crear matriz 4x4 con valores 0.5\n",
    "#Compia de matriz creada connp.Ones\n",
    "dimensiones=(4,4)\n",
    "matriz05=(np.ones(dimensiones))/2\n",
    "print(f\"{matriz05}\\n\")\n",
    "\n",
    "#Crear Matriz 5x5 con valores al azar de 1 al 101\n",
    "import random\n",
    "dimensiones=(5,5)\n",
    "matrizRandom=np.random.randint(1,101,dimensiones)\n",
    "print(f\"{matrizRandom}\\n\")"
   ]
  },
  {
   "cell_type": "code",
   "execution_count": 79,
   "id": "87c4d71f-2f49-4f83-8c30-4337e5454e6e",
   "metadata": {},
   "outputs": [
    {
     "name": "stdout",
     "output_type": "stream",
     "text": [
      "[10 11 12 13 14 15 16 17 18 19 20 21 22 23 24 25 26 27 28 29 30 31 32 33\n",
      " 34 35 36 37 38 39 40 41 42 43 44 45 46 47 48 49]\n",
      "\n",
      "[49 48 47 46 45 44 43 42 41 40 39 38 37 36 35 34 33 32 31 30 29 28 27 26\n",
      " 25 24 23 22 21 20 19 18 17 16 15 14 13 12 11 10]\n",
      "\n",
      "[[1. 0. 0. 0. 0. 0.]\n",
      " [0. 1. 0. 0. 0. 0.]\n",
      " [0. 0. 1. 0. 0. 0.]\n",
      " [0. 0. 0. 1. 0. 0.]\n",
      " [0. 0. 0. 0. 1. 0.]\n",
      " [0. 0. 0. 0. 0. 1.]]\n",
      "\n",
      "[[[0.93308532 0.95522486 0.18346343]\n",
      "  [0.8566423  0.25032029 0.18877242]\n",
      "  [0.27835503 0.31546253 0.0599946 ]]\n",
      "\n",
      " [[0.40078029 0.92245943 0.84354693]\n",
      "  [0.69517469 0.39788069 0.29572227]\n",
      "  [0.35723741 0.32313696 0.51083501]]\n",
      "\n",
      " [[0.68808213 0.65023523 0.17246824]\n",
      "  [0.17127924 0.02893676 0.32545972]\n",
      "  [0.72620645 0.61493186 0.18648916]]]\n",
      "\n"
     ]
    }
   ],
   "source": [
    "#Otros Ejercicios\n",
    "#Crear un Vector con Valores dentro del rango 10 a 49\n",
    "a=np.arange(10,50)\n",
    "print(f\"{a}\\n\")\n",
    "#Invertir el vector a[::-1]\n",
    "aInvertido=a[::-1]\n",
    "print(f\"{aInvertido}\\n\")\n",
    "#Crea una matriz identidad de 6x6\n",
    "matrizIdentidad=np.identity(6)\n",
    "print(f\"{matrizIdentidad}\\n\")\n",
    "#Crea una matriz con valores al azar con forma 3x3\n",
    "r=np.random.random((3,3,3))\n",
    "print(f\"{r}\\n\")"
   ]
  },
  {
   "cell_type": "code",
   "execution_count": 82,
   "id": "46941f42-d968-4b97-a4e5-e660d9cd685f",
   "metadata": {},
   "outputs": [
    {
     "name": "stdout",
     "output_type": "stream",
     "text": [
      "1\n",
      "0.9552248582196053\n",
      "[[[0.93308532 0.95522486 0.18346343]\n",
      "  [0.8566423  0.25032029 0.18877242]\n",
      "  [0.27835503 0.31546253 0.0599946 ]]\n",
      "\n",
      " [[0.40078029 0.92245943 0.84354693]\n",
      "  [0.69517469 0.39788069 0.29572227]\n",
      "  [0.35723741 0.32313696 0.51083501]]\n",
      "\n",
      " [[0.68808213 0.65023523 0.17246824]\n",
      "  [0.17127924 0.02893676 0.32545972]\n",
      "  [0.72620645 0.61493186 0.18648916]]]\n",
      "(0, 0, 1)\n",
      "[[1. 1. 1. 1. 1. 1. 1. 1. 1. 1.]\n",
      " [1. 0. 0. 0. 0. 0. 0. 0. 0. 1.]\n",
      " [1. 0. 0. 0. 0. 0. 0. 0. 0. 1.]\n",
      " [1. 0. 0. 0. 0. 0. 0. 0. 0. 1.]\n",
      " [1. 0. 0. 0. 0. 0. 0. 0. 0. 1.]\n",
      " [1. 0. 0. 0. 0. 0. 0. 0. 0. 1.]\n",
      " [1. 0. 0. 0. 0. 0. 0. 0. 0. 1.]\n",
      " [1. 0. 0. 0. 0. 0. 0. 0. 0. 1.]\n",
      " [1. 0. 0. 0. 0. 0. 0. 0. 0. 1.]\n",
      " [1. 1. 1. 1. 1. 1. 1. 1. 1. 1.]]\n"
     ]
    }
   ],
   "source": [
    "#Encontrar los indices de los valores minimos y maximos de la anterior matriz\n",
    "print(r.argmax())\n",
    "print(r.ravel()[r.argmax()])\n",
    "\n",
    "print(r)\n",
    "print(np.unravel_index(r.argmax(),r.shape))\n",
    "r[np.unravel_index(r.argmax(),r.shape)]\n",
    "\n",
    "#Crear una matriz de 10x10 con 1's en los bordes y 0 en el interior \n",
    "z=np.ones((10,10))\n",
    "\n",
    "z[1:-1,1:-1]=0\n",
    "print(z)"
   ]
  },
  {
   "cell_type": "code",
   "execution_count": 88,
   "id": "3740a5f1-292e-4bcc-a05e-c493b598e62f",
   "metadata": {},
   "outputs": [
    {
     "name": "stdout",
     "output_type": "stream",
     "text": [
      "[[0 1 2 3 4]\n",
      " [0 1 2 3 4]\n",
      " [0 1 2 3 4]\n",
      " [0 1 2 3 4]\n",
      " [0 1 2 3 4]]\n"
     ]
    },
    {
     "data": {
      "text/plain": [
       "array([[False, False, False],\n",
       "       [False, False, False],\n",
       "       [False, False, False]])"
      ]
     },
     "execution_count": 88,
     "metadata": {},
     "output_type": "execute_result"
    }
   ],
   "source": [
    "#Crear una matriz de 5x5 con valores en los renglones que vayan de 0 a 4 \n",
    "matriz5x5=np.tile(np.arange(0,5),5).reshape(5,5)\n",
    "print(matriz5x5)\n",
    "#Crear dos arreglos al azar A y B, verificar si son iguales\n",
    "a=np.random.random((3,3))\n",
    "b=np.random.random((3,3))\n",
    "a==b"
   ]
  },
  {
   "cell_type": "code",
   "execution_count": 101,
   "id": "d38a366f-956e-4e9d-be58-ae17c67fd468",
   "metadata": {},
   "outputs": [],
   "source": [
    "#Tomar el tiempo de multiplicacion de matrices de las siguientes dimensiones: 10x10,100x100,1000x1000\n",
    "#Guardar los tiempos de resultados en un archivo\n",
    "dimensiones=[(10,10),(100,100),(1000,1000)]\n",
    "tiempos=[]\n",
    "\n",
    "for dims in dimensiones:\n",
    "    matrizA=np.random.rand(*dims)\n",
    "    matrizB=np.random.rand(*dims)\n",
    "\n",
    "    inicio=time.time()\n",
    "    resultado=np.dot(matrizA,matrizB)\n",
    "    tiempoTranscurrido=time.time()-inicio\n",
    "\n",
    "    tiempos.append(tiempoTranscurrido)\n",
    "#Guardar arreglos en archivo\n",
    "np.save(\"tiemposMultiplicacion.npy\",tiempos)\n",
    "\n",
    "# Guardar un arreglo en un archivo .npy y cargarlo\n",
    "arr=np.arange(10)\n",
    "np.save('archivo.npy',arr)\n",
    "loaded_arr=np.load('archivo.npy')\n",
    "\n",
    "# Guardar múltiples arreglos en un archivo .npz y cargarlo\n",
    "np.savez(\"array_archive.npz\",a=arr,b=arr)\n",
    "arch=np.load(\"array_archive.npz\")\n",
    "loaded_b=arch[\"b\"]"
   ]
  },
  {
   "cell_type": "code",
   "execution_count": 104,
   "id": "a3f6136f-61d9-4633-8434-47a976c21820",
   "metadata": {},
   "outputs": [],
   "source": [
    "#Archivos csv\n",
    "#Para guardar el archive en formato csv y con un delimitador \",\"\n",
    "np.savetxt(\"archivo.csv\",arr,delimiter=\",\")\n",
    "\n",
    "#Extraer el arreglo\n",
    "arr2=np.loadtxt(\"archivo.csv\",delimiter=\",\")"
   ]
  },
  {
   "cell_type": "code",
   "execution_count": null,
   "id": "76ac3283-1e54-4b7b-a32e-6244e1de5349",
   "metadata": {},
   "outputs": [],
   "source": []
  }
 ],
 "metadata": {
  "kernelspec": {
   "display_name": "Python 3 (ipykernel)",
   "language": "python",
   "name": "python3"
  },
  "language_info": {
   "codemirror_mode": {
    "name": "ipython",
    "version": 3
   },
   "file_extension": ".py",
   "mimetype": "text/x-python",
   "name": "python",
   "nbconvert_exporter": "python",
   "pygments_lexer": "ipython3",
   "version": "3.12.3"
  }
 },
 "nbformat": 4,
 "nbformat_minor": 5
}
